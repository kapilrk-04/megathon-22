{
  "nbformat": 4,
  "nbformat_minor": 0,
  "metadata": {
    "colab": {
      "provenance": [],
      "authorship_tag": "ABX9TyOFZUZhhS1eM1nBr1HN+oh6",
      "include_colab_link": true
    },
    "kernelspec": {
      "name": "python3",
      "display_name": "Python 3"
    },
    "language_info": {
      "name": "python"
    }
  },
  "cells": [
    {
      "cell_type": "markdown",
      "metadata": {
        "id": "view-in-github",
        "colab_type": "text"
      },
      "source": [
        "<a href=\"https://colab.research.google.com/github/kapilrk-04/megathon-22/blob/main/audioclass.ipynb\" target=\"_parent\"><img src=\"https://colab.research.google.com/assets/colab-badge.svg\" alt=\"Open In Colab\"/></a>"
      ]
    },
    {
      "cell_type": "code",
      "execution_count": 1,
      "metadata": {
        "id": "g3pk0udvJIo-"
      },
      "outputs": [],
      "source": [
        "%matplotlib inline"
      ]
    },
    {
      "cell_type": "code",
      "source": [
        "%pip install datasets"
      ],
      "metadata": {
        "id": "uFDnvqnWMD9_"
      },
      "execution_count": null,
      "outputs": []
    },
    {
      "cell_type": "code",
      "source": [
        "#setup and imports(1)\n",
        "\n",
        "#from exp.nb_12a import *\n",
        "import math, random\n",
        "import torch\n",
        "import torchaudio\n",
        "from torchaudio import transforms\n",
        "from torch.utils.data import DataLoader, Dataset, random_split\n",
        "import mimetypes\n",
        "import datasets\n",
        "from pathlib import Path, PosixPath\n",
        "from IPython.display import Audio\n",
        "import tensorflow as tf\n",
        "from tensorflow import keras"
      ],
      "metadata": {
        "id": "-ecGOnDVJuM7"
      },
      "execution_count": 3,
      "outputs": []
    },
    {
      "cell_type": "code",
      "source": [
        "#setup and imports(2)\n",
        "\n",
        "#export\n",
        "AUDIO_EXTS = {str.lower(k) for k,v in mimetypes.types_map.items() if v.startswith('audio/')}"
      ],
      "metadata": {
        "id": "fjUil0WNJ5-j"
      },
      "execution_count": null,
      "outputs": []
    },
    {
      "cell_type": "markdown",
      "source": [],
      "metadata": {
        "id": "6WfPOjJSOWBb"
      }
    },
    {
      "cell_type": "code",
      "source": [
        "#download\n",
        "\n",
        "dsid = \"ST-AEDS-20180100_1-OS\"\n",
        "data_url = f'http://www.openslr.org/resources/45/{dsid}' # actual URL has .tgz extension but untar_data doesn't like that\n",
        "path = Path.home() / Path(f\".fastai/data/{dsid}/\")\n",
        "datasets.untar_data(data_url, dest=path)\n",
        "path"
      ],
      "metadata": {
        "id": "PIifVAJ9KG70"
      },
      "execution_count": null,
      "outputs": []
    },
    {
      "cell_type": "code",
      "source": [
        "#load into audiolist\n",
        "\n",
        "#export\n",
        "class AudioList(ItemList):\n",
        "    @classmethod\n",
        "    def from_files(cls, path, extensions=None, recurse=True, include=None, **kwargs):\n",
        "        if extensions is None: extensions = AUDIO_EXTS\n",
        "        return cls(tf.keras.utils.get_files(path, extensions, recurse=recurse, include=include), path, **kwargs)\n",
        "    \n",
        "    def get(self, fn): \n",
        "        sig, sr = torchaudio.load(fn)\n",
        "        assert sig.size(0) == 1, \"Non-mono audio detected, mono only supported for now.\"\n",
        "        return (sig, sr)"
      ],
      "metadata": {
        "id": "bwPs3mJBKRhY"
      },
      "execution_count": null,
      "outputs": []
    },
    {
      "cell_type": "code",
      "source": [
        "#load into audiolist(2)\n",
        "\n",
        "al = AudioList.from_files(path)\n",
        "al"
      ],
      "metadata": {
        "id": "QwzGkYBHPV5W"
      },
      "execution_count": null,
      "outputs": []
    },
    {
      "cell_type": "code",
      "source": [
        "#split into train/test\n",
        "\n",
        "sd = SplitData.split_by_func()"
      ],
      "metadata": {
        "id": "Y0E7VLe5QXcv"
      },
      "execution_count": null,
      "outputs": []
    }
  ]
}